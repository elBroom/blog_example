{
 "cells": [
  {
   "cell_type": "markdown",
   "metadata": {
    "slideshow": {
     "slide_type": "slide"
    }
   },
   "source": [
    "## Introduction to data analysis in Python\n",
    "\n",
    "О чем этот курс:\n",
    "* Базовые принципы работы с данными в Python\n",
    "* Базовые принципы машинного обучения\n",
    "* Задачи машинного обучение\n",
    "* Обучение/валидация"
   ]
  },
  {
   "cell_type": "markdown",
   "metadata": {
    "slideshow": {
     "slide_type": "slide"
    }
   },
   "source": [
    "## Jupyter notebook\n",
    "\n",
    "Все слайды и картинки были сгенерированы в Jupyter notebook, и наши практики будут проходит в этой среде:\n",
    "* Рекомендую запускать блоки по очереди один за другим\n",
    "* Чтобы запустить блок, используйте Shift + Enter"
   ]
  },
  {
   "cell_type": "markdown",
   "metadata": {
    "slideshow": {
     "slide_type": "slide"
    }
   },
   "source": [
    "## Disclaimer\n",
    "\n",
    "В этом курсе будет очень много картинок, и большая часть кода будет использована с целью показать хорошую картинку:\n",
    "* Рисовать хорошие картинки важно\n",
    "* Плохие картинки иногда хуже чем отсутствие картинки\n",
    "* Визуализировать данные невероятно важно: искать паттерны в числах сильно сложнее чем на графике, поэтому все главные результаты статей изображаются чаще всего в качестве картинок, а не в качестве таблиц"
   ]
  },
  {
   "cell_type": "markdown",
   "metadata": {
    "slideshow": {
     "slide_type": "slide"
    }
   },
   "source": [
    "## Importing libraries"
   ]
  },
  {
   "cell_type": "code",
   "execution_count": 1,
   "metadata": {
    "slideshow": {
     "slide_type": "-"
    }
   },
   "outputs": [
    {
     "name": "stderr",
     "output_type": "stream",
     "text": [
      "/home/zarina/anaconda3/lib/python3.6/site-packages/matplotlib/font_manager.py:278: UserWarning: Matplotlib is building the font cache using fc-list. This may take a moment.\n",
      "  'Matplotlib is building the font cache using fc-list. '\n"
     ]
    }
   ],
   "source": [
    "%matplotlib inline\n",
    "import numpy as np\n",
    "import pandas as pd\n",
    "import numpy as np\n",
    "import matplotlib.pyplot as plt\n",
    "import warnings\n",
    "\n",
    "from sklearn.preprocessing import PolynomialFeatures\n",
    "from sklearn.linear_model import LinearRegression\n",
    "warnings.simplefilter(action='ignore', category=FutureWarning)\n"
   ]
  },
  {
   "cell_type": "markdown",
   "metadata": {
    "slideshow": {
     "slide_type": "slide"
    }
   },
   "source": [
    "## Dataset\n",
    "\n",
    "В файле age_data.tsv находятся данные о количестве раковых инцидентов и возрастные группы этих пациентов на территории UK.\n",
    "\n",
    "* Датасет, который мы используем в первый день -- игрушечный и маленький\n",
    "* Главная цель первой практики -- проверить, что у всех всё работает и пройти через самые базовые концепты машинного обучения\n",
    "* Вторая цель -- мы будем запускать блоки кода, и я хотел, чтобы у вас было бы примерное представление, что происходит внутри блоков, поэтому можно\\нужно спрашивать"
   ]
  },
  {
   "cell_type": "markdown",
   "metadata": {
    "slideshow": {
     "slide_type": "slide"
    }
   },
   "source": [
    "## Loading data"
   ]
  },
  {
   "cell_type": "code",
   "execution_count": 2,
   "metadata": {
    "slideshow": {
     "slide_type": "-"
    }
   },
   "outputs": [
    {
     "data": {
      "text/html": [
       "<div>\n",
       "<style scoped>\n",
       "    .dataframe tbody tr th:only-of-type {\n",
       "        vertical-align: middle;\n",
       "    }\n",
       "\n",
       "    .dataframe tbody tr th {\n",
       "        vertical-align: top;\n",
       "    }\n",
       "\n",
       "    .dataframe thead th {\n",
       "        text-align: right;\n",
       "    }\n",
       "</style>\n",
       "<table border=\"1\" class=\"dataframe\">\n",
       "  <thead>\n",
       "    <tr style=\"text-align: right;\">\n",
       "      <th></th>\n",
       "      <th>Age End</th>\n",
       "      <th>Male Cases</th>\n",
       "      <th>Female Cases</th>\n",
       "      <th>Male Rates</th>\n",
       "      <th>Female Rates</th>\n",
       "    </tr>\n",
       "    <tr>\n",
       "      <th>Age Start</th>\n",
       "      <th></th>\n",
       "      <th></th>\n",
       "      <th></th>\n",
       "      <th></th>\n",
       "      <th></th>\n",
       "    </tr>\n",
       "  </thead>\n",
       "  <tbody>\n",
       "    <tr>\n",
       "      <th>0</th>\n",
       "      <td>4</td>\n",
       "      <td>419</td>\n",
       "      <td>358</td>\n",
       "      <td>20.4</td>\n",
       "      <td>18.3</td>\n",
       "    </tr>\n",
       "    <tr>\n",
       "      <th>5</th>\n",
       "      <td>9</td>\n",
       "      <td>242</td>\n",
       "      <td>184</td>\n",
       "      <td>12.6</td>\n",
       "      <td>10.0</td>\n",
       "    </tr>\n",
       "    <tr>\n",
       "      <th>10</th>\n",
       "      <td>14</td>\n",
       "      <td>228</td>\n",
       "      <td>203</td>\n",
       "      <td>12.6</td>\n",
       "      <td>11.7</td>\n",
       "    </tr>\n",
       "    <tr>\n",
       "      <th>15</th>\n",
       "      <td>19</td>\n",
       "      <td>412</td>\n",
       "      <td>389</td>\n",
       "      <td>20.7</td>\n",
       "      <td>20.6</td>\n",
       "    </tr>\n",
       "    <tr>\n",
       "      <th>20</th>\n",
       "      <td>24</td>\n",
       "      <td>684</td>\n",
       "      <td>755</td>\n",
       "      <td>31.2</td>\n",
       "      <td>35.5</td>\n",
       "    </tr>\n",
       "  </tbody>\n",
       "</table>\n",
       "</div>"
      ],
      "text/plain": [
       "           Age End  Male Cases  Female Cases  Male Rates  Female Rates\n",
       "Age Start                                                             \n",
       "0                4         419           358        20.4          18.3\n",
       "5                9         242           184        12.6          10.0\n",
       "10              14         228           203        12.6          11.7\n",
       "15              19         412           389        20.7          20.6\n",
       "20              24         684           755        31.2          35.5"
      ]
     },
     "execution_count": 2,
     "metadata": {},
     "output_type": "execute_result"
    }
   ],
   "source": [
    "df = pd.DataFrame.from_csv(\"age_data.tsv\", sep=\"\\t\", header=0)\n",
    "df.head()\n"
   ]
  },
  {
   "cell_type": "markdown",
   "metadata": {
    "slideshow": {
     "slide_type": "slide"
    }
   },
   "source": [
    "## Vizualizing the data (always do that)"
   ]
  },
  {
   "cell_type": "code",
   "execution_count": 3,
   "metadata": {
    "slideshow": {
     "slide_type": "-"
    }
   },
   "outputs": [
    {
     "data": {
      "text/plain": [
       "<matplotlib.axes._subplots.AxesSubplot at 0x7f1b22bdac50>"
      ]
     },
     "execution_count": 3,
     "metadata": {},
     "output_type": "execute_result"
    },
    {
     "data": {
      "image/png": "[encoded data removed]",
      "text/plain": [
       "<Figure size 432x288 with 1 Axes>"
      ]
     },
     "metadata": {},
     "output_type": "display_data"
    }
   ],
   "source": [
    "df.plot(x=\"Age End\", style=\".\")"
   ]
  },
  {
   "cell_type": "markdown",
   "metadata": {
    "slideshow": {
     "slide_type": "slide"
    }
   },
   "source": [
    "## Vizualizing the data (always do that)"
   ]
  },
  {
   "cell_type": "code",
   "execution_count": 4,
   "metadata": {},
   "outputs": [
    {
     "data": {
      "text/plain": [
       "<matplotlib.axes._subplots.AxesSubplot at 0x7f1b1eff54e0>"
      ]
     },
     "execution_count": 4,
     "metadata": {},
     "output_type": "execute_result"
    },
    {
     "data": {
      "image/png": "[encoded data removed]",
      "text/plain": [
       "<Figure size 432x288 with 1 Axes>"
      ]
     },
     "metadata": {},
     "output_type": "display_data"
    }
   ],
   "source": [
    "df.plot(x=\"Age End\")"
   ]
  },
  {
   "cell_type": "markdown",
   "metadata": {
    "slideshow": {
     "slide_type": "slide"
    }
   },
   "source": [
    "# Linear regression\n",
    "## Regression\n",
    "\n",
    "* Пускай есть $n$ объектов\n",
    "* Каждый объект $x$ описывается набором признаков: $x_1, x_2, ... , x_m$ (есть $m$ признаков)\n",
    "* Про каждый объект $x$ также известно значение зависимой переменной $y$ (которую мы возможно хотим предсказывать)\n",
    "* Задача регрессии - нахождение зависимости $y$ от $x_1, x_2, ... , x_m$\n",
    "* Например нахождение числа раковых инцидентов в зависимости от возраста. Возраст - $x_1$, число раковых инцидентов -$y$"
   ]
  },
  {
   "cell_type": "markdown",
   "metadata": {
    "slideshow": {
     "slide_type": "fragment"
    }
   },
   "source": [
    "* На самом деле, даже в этой задаче признаков больше, как минимум: возраст - $x_1$, пол - $x_2$, число раковых инцидентов - $y$"
   ]
  },
  {
   "cell_type": "markdown",
   "metadata": {
    "slideshow": {
     "slide_type": "slide"
    }
   },
   "source": [
    "# Linear regression\n",
    "## Regression\n",
    "\n",
    "Нахождение зависимости:\n",
    "\n",
    "$$ f(x_1, x_2, ..., x_m) = f(x) \\approx y $$\n",
    "\n",
    "В случае линейной регрессии мы считаем, что функция $f$ имеет очень простой вид:\n",
    "\n",
    "$$ f(x) = a_0 + a_1 x_1 + a_2 x_2 + ... + a_m x_m $$\n",
    "\n",
    "Тогда задача линейной регрессии - это нахождение таких коэффициентов $a_0, a_1, a_2 ... a_m$, что $f(x)$ наиболее близка к $y$.\n",
    "\n",
    "Наибольшая близость определяется минимальной квадратичной ошибкой:\n",
    "\n",
    "$$ error = \\sum_{i=1}^{n} (f(X_i) - y_i)^2 $$"
   ]
  },
  {
   "cell_type": "markdown",
   "metadata": {
    "slideshow": {
     "slide_type": "slide"
    }
   },
   "source": [
    "# Our case\n",
    "\n",
    "Пускай мы хотим уметь предсказывать количество раковых инцидентов (среди мужчин или женщин) в зависимости от возраста используя линейную регрессию.\n",
    "\n",
    "* n = 18\n",
    "* m = 1\n",
    "* Возраст - $x_1$\n",
    "* Количество инцидентов - $y$\n",
    "\n",
    "Мы хотим найти функцию $f(x) = a_0 + a_1 x_1$, чтобы $f(x)$ была максимально близка к $y$:\n",
    "мы хотим найти такие a_0, a_1 что сумма\n",
    "\n",
    "$$ error = \\sum_{i = 1}^{18} (a_0 + a_1 X_{i,1} - y_i) ^ 2 $$ \n",
    "\n",
    "минимальна"
   ]
  },
  {
   "cell_type": "markdown",
   "metadata": {
    "slideshow": {
     "slide_type": "slide"
    }
   },
   "source": [
    "## Linear regression"
   ]
  },
  {
   "cell_type": "code",
   "execution_count": 11,
   "metadata": {
    "slideshow": {
     "slide_type": "-"
    }
   },
   "outputs": [],
   "source": [
    "X_mat = df.as_matrix(columns=[\"Age End\"])\n",
    "X_vec = df[\"Age End\"].values\n",
    "\n",
    "Y = df[\"Male Rates\"].values\n",
    "\n",
    "# create a Linear Regressor   \n",
    "lin_regressor = LinearRegression()\n",
    "\n",
    "# fit this to Linear Regressor\n",
    "lin_regressor.fit(X_mat, Y) \n",
    "\n",
    "# print(lin_regressor.intercept_)\n",
    "# print(lin_regressor.coef_)\n",
    "\n",
    "\n",
    "# get the predictions\n",
    "Y_preds = lin_regressor.predict(X_mat)\n"
   ]
  },
  {
   "cell_type": "markdown",
   "metadata": {
    "slideshow": {
     "slide_type": "slide"
    }
   },
   "source": [
    "## Linear regression plot"
   ]
  },
  {
   "cell_type": "code",
   "execution_count": 12,
   "metadata": {
    "slideshow": {
     "slide_type": "-"
    }
   },
   "outputs": [
    {
     "data": {
      "text/plain": [
       "<matplotlib.legend.Legend at 0x7f1b1ed0ee48>"
      ]
     },
     "execution_count": 12,
     "metadata": {},
     "output_type": "execute_result"
    },
    {
     "data": {
      "image/png": "[encoded data removed]",
      "text/plain": [
       "<Figure size 432x288 with 1 Axes>"
      ]
     },
     "metadata": {},
     "output_type": "display_data"
    }
   ],
   "source": [
    "\n",
    "plt.plot(X_vec, Y, \"bo\")\n",
    "plt.plot(X_vec, Y_preds, color=\"black\")\n",
    "plt.legend([\"Data\", \"Prediction\"])"
   ]
  },
  {
   "cell_type": "markdown",
   "metadata": {
    "slideshow": {
     "slide_type": "slide"
    }
   },
   "source": [
    "## Linear regression plot with errors"
   ]
  },
  {
   "cell_type": "code",
   "execution_count": 16,
   "metadata": {
    "slideshow": {
     "slide_type": "-"
    }
   },
   "outputs": [
    {
     "data": {
      "text/plain": [
       "<matplotlib.legend.Legend at 0x7f1b1ebba4a8>"
      ]
     },
     "execution_count": 16,
     "metadata": {},
     "output_type": "execute_result"
    },
    {
     "data": {
      "image/png": "[encoded data removed]",
      "text/plain": [
       "<Figure size 432x288 with 1 Axes>"
      ]
     },
     "metadata": {},
     "output_type": "display_data"
    }
   ],
   "source": [
    "from matplotlib import collections  as mc\n",
    "\n",
    "lines = [\n",
    "    [(X_vec[i], Y_preds[i]), (X_vec[i], Y[i])] \n",
    "    for i in range(len(X_vec))\n",
    "]\n",
    "\n",
    "lc = mc.LineCollection(lines, color=\"grey\", linewidths=2)\n",
    "\n",
    "fig, ax = plt.subplots()\n",
    "ax.plot(X_vec, Y, \"ro\")\n",
    "ax.plot(X_vec, Y_preds, color=\"green\")\n",
    "ax.add_collection(lc)\n",
    "plt.legend([\"Data\", \"Prediction\", \"Erorrs\"])"
   ]
  },
  {
   "cell_type": "markdown",
   "metadata": {
    "slideshow": {
     "slide_type": "slide"
    }
   },
   "source": [
    "# Summary\n",
    "* Линейная регрессия - очень простая модель, и не может точно предсказывать наши данные\n",
    "* Мы можем воспользоваться полиномиальной регрессией"
   ]
  },
  {
   "cell_type": "markdown",
   "metadata": {
    "slideshow": {
     "slide_type": "slide"
    }
   },
   "source": [
    "# Polynomial regression\n",
    "\n",
    "* Пусть у каждого объекта есть только один параметр $x$ и переменная, которую мы пытаемся предсказать $y$.\n",
    "* Будем выбирать функцию $f$ из множества функций вида:\n",
    "$$ f(x) = a_0 + a_1 x + a_2 x^2 + ... + a_m x^m ,$$\n",
    "где m - степень многочлена (полинома)\n"
   ]
  },
  {
   "cell_type": "markdown",
   "metadata": {
    "slideshow": {
     "slide_type": "fragment"
    }
   },
   "source": [
    "* В случае $m = 1$, полиномиальная регрессия - это линейная регрессия: $f(x) = a_0 + a_1 x$\n",
    "* В случае $m = 2$, полиномиальная регрессия ищет некоторую параболу $f(x) = a_0 + a_1 x + a_2 x^2$\n",
    "* Чем больше $m$, тем сложнее множество функций из которых мы делаем выбор\n",
    "* Начнём с 1 и будем постепенно увеличивать $m$"
   ]
  },
  {
   "cell_type": "markdown",
   "metadata": {
    "slideshow": {
     "slide_type": "slide"
    }
   },
   "source": [
    "## Polynomial regression"
   ]
  },
  {
   "cell_type": "code",
   "execution_count": 42,
   "metadata": {
    "slideshow": {
     "slide_type": "-"
    }
   },
   "outputs": [],
   "source": [
    "X_mat = df.as_matrix(columns=[\"Age End\"])\n",
    "X_vec = df[\"Age End\"].values\n",
    "\n",
    "Y = df[\"Male Rates\"].values\n",
    "\n",
    "# create a Linear Regressor   \n",
    "lin_regressor = LinearRegression()\n",
    "\n",
    "# # pass the order of your polynomial here  \n",
    "poly = PolynomialFeatures(3)\n",
    "\n",
    "# # convert to be used further to linear regression\n",
    "X_transform = poly.fit_transform(X_mat)\n",
    "\n",
    "# fit this to Linear Regressor\n",
    "lin_regressor.fit(X_transform, Y) \n",
    "\n",
    "# print(lin_regressor.intercept_)\n",
    "# print(lin_regressor.coef_)\n",
    "\n",
    "# get the predictions\n",
    "Y_preds = lin_regressor.predict(X_transform)\n"
   ]
  },
  {
   "cell_type": "markdown",
   "metadata": {
    "slideshow": {
     "slide_type": "slide"
    }
   },
   "source": [
    "## Polynomial regression plot"
   ]
  },
  {
   "cell_type": "code",
   "execution_count": 43,
   "metadata": {
    "slideshow": {
     "slide_type": "-"
    }
   },
   "outputs": [
    {
     "data": {
      "text/plain": [
       "<matplotlib.legend.Legend at 0x7f1b1e605828>"
      ]
     },
     "execution_count": 43,
     "metadata": {},
     "output_type": "execute_result"
    },
    {
     "data": {
      "image/png": "[encoded data removed]",
      "text/plain": [
       "<Figure size 432x288 with 1 Axes>"
      ]
     },
     "metadata": {},
     "output_type": "display_data"
    }
   ],
   "source": [
    "plt.plot(X_vec, Y, \"bo\")\n",
    "plt.plot(X_vec, Y_preds, color=\"black\")\n",
    "plt.legend([\"Data\", \"Prediction\"])"
   ]
  },
  {
   "cell_type": "markdown",
   "metadata": {
    "slideshow": {
     "slide_type": "slide"
    }
   },
   "source": [
    "## Polynomial regression plot with errors"
   ]
  },
  {
   "cell_type": "code",
   "execution_count": 44,
   "metadata": {
    "slideshow": {
     "slide_type": "-"
    }
   },
   "outputs": [
    {
     "data": {
      "text/plain": [
       "<matplotlib.legend.Legend at 0x7f1b1e573eb8>"
      ]
     },
     "execution_count": 44,
     "metadata": {},
     "output_type": "execute_result"
    },
    {
     "data": {
      "image/png": "[encoded data removed]",
      "text/plain": [
       "<Figure size 432x288 with 1 Axes>"
      ]
     },
     "metadata": {},
     "output_type": "display_data"
    }
   ],
   "source": [
    "from matplotlib import collections  as mc\n",
    "\n",
    "lines = [[(X_vec[i], Y_preds[i]), \n",
    "          (X_vec[i], Y[i])] \n",
    "         for i in range(len(X_vec))]\n",
    "\n",
    "lc = mc.LineCollection(lines, color=\"grey\", linewidths=2)\n",
    "\n",
    "fig, ax = plt.subplots()\n",
    "ax.plot(X_vec, Y, \"bo\")\n",
    "ax.plot(X_vec, Y_preds, color=\"black\")\n",
    "ax.add_collection(lc)\n",
    "plt.legend([\"Data\", \"Prediction\", \"Erorrs\"])"
   ]
  },
  {
   "cell_type": "markdown",
   "metadata": {
    "slideshow": {
     "slide_type": "slide"
    }
   },
   "source": [
    "# Overfitting\n",
    "\n",
    "С увеличением $m$ мы подбираем модель, которая всё лучше и лучше подходит под данные, которые мы передали для обучения.\n",
    "* Сможет ли такая модель хорошо предсказать количество инцидентов для возраста которого нет в выборке?\n",
    "* Как нам контролировать переобучение?\n",
    "* Кросс-валидация"
   ]
  },
  {
   "cell_type": "markdown",
   "metadata": {
    "slideshow": {
     "slide_type": "slide"
    }
   },
   "source": [
    "# Cross-validation\n",
    "\n",
    "* Разобьём случайно нашу выборку на обучающую и тестирующую\n",
    "* Обычно это делается в отношении 80% к 20%, но у нас мало образцов, поэтому мы разобьем попалам\n"
   ]
  },
  {
   "cell_type": "markdown",
   "metadata": {
    "slideshow": {
     "slide_type": "slide"
    }
   },
   "source": [
    "## Cross-validation"
   ]
  },
  {
   "cell_type": "code",
   "execution_count": 45,
   "metadata": {
    "slideshow": {
     "slide_type": "-"
    }
   },
   "outputs": [
    {
     "name": "stdout",
     "output_type": "stream",
     "text": [
      "           Age End  Male Cases  Female Cases  Male Rates  Female Rates\n",
      "Age Start                                                             \n",
      "50              54        8024         12623       373.2         574.8\n",
      "0                4         419           358        20.4          18.3\n",
      "85              89       12566         13379      3643.2        2260.7\n",
      "80              84       21234         18887      3260.9        2100.0\n",
      "45              49        4839          9793       209.6         412.7\n",
      "40              44        2735          5832       123.4         257.0\n",
      "60              64       20538         18055      1178.2         994.3\n",
      "55              59       12965         13933       698.0         731.8\n",
      "25              29        1065          1650        49.0          75.7\n",
      "           Age End  Male Cases  Female Cases  Male Rates  Female Rates\n",
      "Age Start                                                             \n",
      "30              34        1369          2371        64.0         109.4\n",
      "15              19         412           389        20.7          20.6\n",
      "65              69       29375         22852      1743.4        1283.0\n",
      "10              14         228           203        12.6          11.7\n",
      "70              74       28538         20538      2363.7        1530.1\n",
      "35              39        1652          3252        83.0         161.9\n",
      "75              79       27721         20873      2904.9        1832.9\n",
      "20              24         684           755        31.2          35.5\n",
      "5                9         242           184        12.6          10.0\n"
     ]
    }
   ],
   "source": [
    "from sklearn.model_selection import train_test_split\n",
    "\n",
    "np.random.seed(1)\n",
    "\n",
    "train, test = train_test_split(df, test_size=9)\n",
    "print(train)\n",
    "print(test)"
   ]
  },
  {
   "cell_type": "markdown",
   "metadata": {
    "slideshow": {
     "slide_type": "slide"
    }
   },
   "source": [
    "## Cross-validation"
   ]
  },
  {
   "cell_type": "code",
   "execution_count": 46,
   "metadata": {
    "slideshow": {
     "slide_type": "-"
    }
   },
   "outputs": [
    {
     "data": {
      "text/plain": [
       "<matplotlib.legend.Legend at 0x7f1b1e4e1b00>"
      ]
     },
     "execution_count": 46,
     "metadata": {},
     "output_type": "execute_result"
    },
    {
     "data": {
      "image/png": "[encoded data removed]",
      "text/plain": [
       "<Figure size 432x288 with 1 Axes>"
      ]
     },
     "metadata": {},
     "output_type": "display_data"
    }
   ],
   "source": [
    "plt.plot(train[\"Age End\"].values, train[\"Male Rates\"].values, \"bo\")\n",
    "plt.plot(test[\"Age End\"].values, test[\"Male Rates\"].values, \"ro\")\n",
    "plt.legend([\"Training data\", \"Validation data\"])"
   ]
  },
  {
   "cell_type": "markdown",
   "metadata": {
    "slideshow": {
     "slide_type": "slide"
    }
   },
   "source": [
    "## Polynomial regression with cross-validation"
   ]
  },
  {
   "cell_type": "code",
   "execution_count": 47,
   "metadata": {
    "slideshow": {
     "slide_type": "-"
    }
   },
   "outputs": [],
   "source": [
    "train_mat = train.as_matrix(columns=[\"Age End\"])\n",
    "train_vec = train[\"Age End\"].values\n",
    "train_y = train[\"Male Rates\"].values\n",
    "\n",
    "test_mat = test.as_matrix(columns=[\"Age End\"])\n",
    "test_vec = test[\"Age End\"].values\n",
    "test_y = test[\"Male Rates\"].values\n",
    "\n",
    "# create a Linear Regressor   \n",
    "lin_regressor = LinearRegression()\n",
    "\n",
    "# # pass the order of your polynomial here  \n",
    "poly = PolynomialFeatures(2)\n",
    "\n",
    "# # convert to be used further to linear regression\n",
    "train_transform = poly.fit_transform(train_mat)\n",
    "\n",
    "# fit this to Linear Regressor\n",
    "lin_regressor.fit(train_transform, train_y) \n",
    "\n",
    "# get the predictions for both train and test\n",
    "X_mat = df.as_matrix(columns=[\"Age End\"])\n",
    "X_vec = df[\"Age End\"].values\n",
    "Y = df[\"Male Rates\"].values\n",
    "\n",
    "X_transform = poly.fit_transform(X_mat)\n",
    "Y_preds = lin_regressor.predict(X_transform)"
   ]
  },
  {
   "cell_type": "markdown",
   "metadata": {
    "slideshow": {
     "slide_type": "slide"
    }
   },
   "source": [
    "## Polynomial regression with cross-validation"
   ]
  },
  {
   "cell_type": "code",
   "execution_count": 48,
   "metadata": {
    "slideshow": {
     "slide_type": "-"
    }
   },
   "outputs": [
    {
     "data": {
      "text/plain": [
       "<matplotlib.legend.Legend at 0x7f1b1e45e470>"
      ]
     },
     "execution_count": 48,
     "metadata": {},
     "output_type": "execute_result"
    },
    {
     "data": {
      "image/png": "[encoded data removed]",
      "text/plain": [
       "<Figure size 432x288 with 1 Axes>"
      ]
     },
     "metadata": {},
     "output_type": "display_data"
    }
   ],
   "source": [
    "from matplotlib import collections  as mc\n",
    "\n",
    "lines = [[(X_vec[i], Y_preds[i]), \n",
    "          (X_vec[i], Y[i])] \n",
    "         for i in range(len(X_vec))]\n",
    "\n",
    "lc = mc.LineCollection(lines, color=\"grey\", linewidths=2)\n",
    "\n",
    "fig, ax = plt.subplots()\n",
    "ax.plot(train_vec, train_y, \"bo\")\n",
    "ax.plot(test_vec, test_y, \"ro\")\n",
    "ax.plot(X_vec, Y_preds, color=\"black\")\n",
    "ax.add_collection(lc)\n",
    "plt.legend([\"Training data\", \"Validation data\", \"Prediction\", \"Erorrs\"])"
   ]
  },
  {
   "cell_type": "markdown",
   "metadata": {
    "slideshow": {
     "slide_type": "slide"
    }
   },
   "source": [
    "# Overfitting\n",
    "\n",
    "Переобучение можно контролировать, когда есть параметры, которые улучшают модель.\n",
    "\n",
    "В нашем случае степень многочлена увеличивает точность предсказания.\n",
    "\n",
    "Мы будем визуализировать ошибку обучения. Ошибка на тренировочном датасете всегда будет уменьшаться, в то время как на валидируещей выборке в какой-то момент вероятно начнёт увеличиваться. В этот момент мы Начинаем переобучаться"
   ]
  },
  {
   "cell_type": "markdown",
   "metadata": {
    "slideshow": {
     "slide_type": "slide"
    }
   },
   "source": [
    "# Train/test splitting"
   ]
  },
  {
   "cell_type": "code",
   "execution_count": 49,
   "metadata": {
    "slideshow": {
     "slide_type": "-"
    }
   },
   "outputs": [],
   "source": [
    "from sklearn.model_selection import train_test_split\n",
    "from sklearn.metrics import mean_squared_error\n",
    "\n",
    "\n",
    "np.random.seed(1)\n",
    "\n",
    "train, test = train_test_split(df, test_size=9)\n",
    "\n",
    "train_mat = train.as_matrix(columns=[\"Age End\"])\n",
    "train_vec = train[\"Age End\"].values\n",
    "train_y = train[\"Male Rates\"].values\n",
    "\n",
    "test_mat = test.as_matrix(columns=[\"Age End\"])\n",
    "test_vec = test[\"Age End\"].values\n",
    "test_y = test[\"Male Rates\"].values"
   ]
  },
  {
   "cell_type": "markdown",
   "metadata": {
    "slideshow": {
     "slide_type": "slide"
    }
   },
   "source": [
    "# RMSE\n",
    "\n",
    "Для каждой степени многочлена от 1 до 7:\n",
    "* Обучим полиномиальную регрессию на тренировочной выборке\n",
    "* Посчитаем RMSE ошибку на обучающей и валидирующей выборке\n",
    "* Запишем ответ\n",
    "* Построим график\n",
    "* Выберем n\n",
    "\n",
    "$$ rmse = \\sqrt{error} = \\sqrt{\\sum_{i=1}^{n} (f(X_i) - y_i)^2} $$"
   ]
  },
  {
   "cell_type": "markdown",
   "metadata": {
    "slideshow": {
     "slide_type": "slide"
    }
   },
   "source": [
    "## Calculating RMSE"
   ]
  },
  {
   "cell_type": "code",
   "execution_count": 50,
   "metadata": {
    "slideshow": {
     "slide_type": "-"
    }
   },
   "outputs": [],
   "source": [
    "max_n = 7\n",
    "\n",
    "errors_df = pd.DataFrame(\n",
    "    data = np.zeros([max_n, 2]),\n",
    "    index = range(1, max_n + 1),\n",
    "    columns = [\"train_rmse\", \"test_rmse\"]\n",
    ")\n",
    "\n",
    "for i in range(max_n):\n",
    "    n = i + 1\n",
    "    lin_regressor = LinearRegression() \n",
    "    poly = PolynomialFeatures(n)\n",
    "\n",
    "    train_transform = poly.fit_transform(train_mat)\n",
    "    test_transform = poly.fit_transform(test_mat)\n",
    "    lin_regressor.fit(train_transform, train_y) \n",
    "\n",
    "    Y_train_preds = lin_regressor.predict(train_transform)\n",
    "    Y_test_preds = lin_regressor.predict(test_transform)\n",
    "    errors_df.iloc[i, 0] = np.sqrt(mean_squared_error(Y_train_preds, train_y))\n",
    "    errors_df.iloc[i, 1] = np.sqrt(mean_squared_error(Y_test_preds, test_y))"
   ]
  },
  {
   "cell_type": "markdown",
   "metadata": {
    "slideshow": {
     "slide_type": "slide"
    }
   },
   "source": [
    "## Results"
   ]
  },
  {
   "cell_type": "code",
   "execution_count": 51,
   "metadata": {
    "slideshow": {
     "slide_type": "-"
    }
   },
   "outputs": [
    {
     "data": {
      "text/html": [
       "<div>\n",
       "<style scoped>\n",
       "    .dataframe tbody tr th:only-of-type {\n",
       "        vertical-align: middle;\n",
       "    }\n",
       "\n",
       "    .dataframe tbody tr th {\n",
       "        vertical-align: top;\n",
       "    }\n",
       "\n",
       "    .dataframe thead th {\n",
       "        text-align: right;\n",
       "    }\n",
       "</style>\n",
       "<table border=\"1\" class=\"dataframe\">\n",
       "  <thead>\n",
       "    <tr style=\"text-align: right;\">\n",
       "      <th></th>\n",
       "      <th>train_rmse</th>\n",
       "      <th>test_rmse</th>\n",
       "    </tr>\n",
       "  </thead>\n",
       "  <tbody>\n",
       "    <tr>\n",
       "      <th>1</th>\n",
       "      <td>726.382751</td>\n",
       "      <td>512.913788</td>\n",
       "    </tr>\n",
       "    <tr>\n",
       "      <th>2</th>\n",
       "      <td>148.558161</td>\n",
       "      <td>251.358706</td>\n",
       "    </tr>\n",
       "    <tr>\n",
       "      <th>3</th>\n",
       "      <td>108.555790</td>\n",
       "      <td>243.783177</td>\n",
       "    </tr>\n",
       "    <tr>\n",
       "      <th>4</th>\n",
       "      <td>41.485235</td>\n",
       "      <td>189.222837</td>\n",
       "    </tr>\n",
       "    <tr>\n",
       "      <th>5</th>\n",
       "      <td>26.029745</td>\n",
       "      <td>92.034379</td>\n",
       "    </tr>\n",
       "    <tr>\n",
       "      <th>6</th>\n",
       "      <td>7.469852</td>\n",
       "      <td>429.026506</td>\n",
       "    </tr>\n",
       "    <tr>\n",
       "      <th>7</th>\n",
       "      <td>2.516648</td>\n",
       "      <td>512.939161</td>\n",
       "    </tr>\n",
       "  </tbody>\n",
       "</table>\n",
       "</div>"
      ],
      "text/plain": [
       "   train_rmse   test_rmse\n",
       "1  726.382751  512.913788\n",
       "2  148.558161  251.358706\n",
       "3  108.555790  243.783177\n",
       "4   41.485235  189.222837\n",
       "5   26.029745   92.034379\n",
       "6    7.469852  429.026506\n",
       "7    2.516648  512.939161"
      ]
     },
     "execution_count": 51,
     "metadata": {},
     "output_type": "execute_result"
    }
   ],
   "source": [
    "errors_df"
   ]
  },
  {
   "cell_type": "markdown",
   "metadata": {
    "slideshow": {
     "slide_type": "slide"
    }
   },
   "source": [
    "## Plot with results"
   ]
  },
  {
   "cell_type": "code",
   "execution_count": 52,
   "metadata": {
    "slideshow": {
     "slide_type": "-"
    }
   },
   "outputs": [
    {
     "data": {
      "text/plain": [
       "<matplotlib.axes._subplots.AxesSubplot at 0x7f1b1e422128>"
      ]
     },
     "execution_count": 52,
     "metadata": {},
     "output_type": "execute_result"
    },
    {
     "data": {
      "image/png": "[encoded data removed]",
      "text/plain": [
       "<Figure size 432x288 with 1 Axes>"
      ]
     },
     "metadata": {},
     "output_type": "display_data"
    }
   ],
   "source": [
    "errors_df.plot()"
   ]
  },
  {
   "cell_type": "markdown",
   "metadata": {
    "slideshow": {
     "slide_type": "slide"
    }
   },
   "source": [
    "## Quiz\n",
    "\n",
    "* Что такое задача регрессии?\n",
    "* Что такое линейная регрессия?\n",
    "* Что такое полиномиальная регрессия ?\n",
    "* Что такое переобучение ?\n",
    "* Зачем делать разделение на обучающую (тренировочную) и тестирующую (валидирующую) выборки?"
   ]
  }
 ],
 "metadata": {
  "celltoolbar": "Slideshow",
  "kernelspec": {
   "display_name": "Python 3",
   "language": "python",
   "name": "python3"
  },
  "language_info": {
   "codemirror_mode": {
    "name": "ipython",
    "version": 3
   },
   "file_extension": ".py",
   "mimetype": "text/x-python",
   "name": "python",
   "nbconvert_exporter": "python",
   "pygments_lexer": "ipython3",
   "version": "3.6.5"
  }
 },
 "nbformat": 4,
 "nbformat_minor": 2
}
